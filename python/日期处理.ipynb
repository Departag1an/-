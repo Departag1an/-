{
 "cells": [
  {
   "cell_type": "markdown",
   "metadata": {},
   "source": [
    "### 对日期这种类12进制计数器进行数值运算"
   ]
  },
  {
   "cell_type": "markdown",
   "metadata": {},
   "source": [
    "#### **datetime模块**"
   ]
  },
  {
   "cell_type": "code",
   "execution_count": null,
   "metadata": {},
   "outputs": [],
   "source": [
    "from datetime import datetime\n"
   ]
  },
  {
   "cell_type": "markdown",
   "metadata": {},
   "source": [
    "- **获取当前时间(比赛不常用)**"
   ]
  },
  {
   "cell_type": "code",
   "execution_count": null,
   "metadata": {},
   "outputs": [],
   "source": [
    "\n",
    "now = datetime.now() \n",
    "utc_now = datetime.utcnow()\n",
    "#utcnow 方法在新版py中预警被删除\n",
    "print(now.strftime(\"%Y-%m-%d %H:%M:%S\"))"
   ]
  },
  {
   "cell_type": "markdown",
   "metadata": {},
   "source": [
    "- **从`时间戳(秒)`获取日期时间**"
   ]
  },
  {
   "cell_type": "code",
   "execution_count": 8,
   "metadata": {},
   "outputs": [
    {
     "name": "stdout",
     "output_type": "stream",
     "text": [
      "2020-06-08 22:26:40\n"
     ]
    }
   ],
   "source": [
    "now =datetime.fromtimestamp(1591626400)\n",
    "utc_now = datetime.utcfromtimestamp(1591626400)\n",
    "# uctfromtimestamp方法已经被弃用\n",
    "print(now.strftime(\"%Y-%m-%d %H:%M:%S\"))"
   ]
  },
  {
   "cell_type": "markdown",
   "metadata": {},
   "source": [
    "- **合并`date`与`time`为`datetime`**"
   ]
  },
  {
   "cell_type": "code",
   "execution_count": 9,
   "metadata": {},
   "outputs": [
    {
     "name": "stdout",
     "output_type": "stream",
     "text": [
      "2024-11-20 12:30:45\n"
     ]
    }
   ],
   "source": [
    "#一个date对象\n",
    "from datetime import date\n",
    "d = date.today()\n",
    "#一个time对象\n",
    "from datetime import time\n",
    "t = time(12, 30, 45)\n",
    "#合并为datetime对象\n",
    "dt = datetime.combine(d, t)\n",
    "print(dt.strftime('%Y-%m-%d %H:%M:%S'))"
   ]
  },
  {
   "cell_type": "markdown",
   "metadata": {},
   "source": [
    "- **直接传参创建`datetime`对象**"
   ]
  },
  {
   "cell_type": "code",
   "execution_count": null,
   "metadata": {},
   "outputs": [],
   "source": [
    "\n",
    "# 创建一个指定的日期时间\n",
    "dt = datetime(year, month, day, hour=0, minute=0, second=0, microsecond=0)\n"
   ]
  },
  {
   "cell_type": "markdown",
   "metadata": {},
   "source": [
    "- **格式化读取与输出`datetime`**"
   ]
  },
  {
   "cell_type": "code",
   "execution_count": null,
   "metadata": {},
   "outputs": [],
   "source": [
    "# 根据日期字符串，格式化日期对象\n",
    "date_string = \"2024-11-13 15:30:45\"\n",
    "dt = datetime.strptime(date_string, \"%Y-%m-%d %H:%M:%S\")\n",
    "\n",
    "#格式输出\n",
    "print(dt.strftime(\"%Y-%m-%d %H:%M:%S\"))"
   ]
  },
  {
   "cell_type": "markdown",
   "metadata": {},
   "source": [
    "- **数学运算**"
   ]
  },
  {
   "cell_type": "code",
   "execution_count": null,
   "metadata": {},
   "outputs": [],
   "source": [
    "from datetime import datetime\n",
    "\n",
    "# 使用时间戳创建 datetime 对象\n",
    "a_time = datetime.fromtimestamp(1577432234)  # 代表 2019-12-27 11:50:34\n",
    "b_time = datetime.fromtimestamp(1577836800)  # 代表 2020-01-01 00:00:00\n",
    "\n",
    "# 计算两个 datetime 对象之间的差异\n",
    "delta = b_time - a_time\n",
    "\n",
    "# 打印原子变化\n",
    "print(\"原子变化：\")\n",
    "print(\"天数差异：\", delta.days)            # 输出天数差异\n",
    "print(\"秒数差异（不包含天）：\", delta.seconds)  # 输出秒数差异（不包含天）\n",
    "print(\"微秒数差异：\", delta.microseconds)      # 输出微秒数差异\n",
    "# 打印时间差的总秒数（可以包括天数转化的秒数）\n",
    "print(\"总秒数：\", delta.total_seconds())       # 输出包括天数和秒数的总秒数\n"
   ]
  },
  {
   "cell_type": "markdown",
   "metadata": {},
   "source": [
    "- **进行时区转换**"
   ]
  },
  {
   "cell_type": "code",
   "execution_count": null,
   "metadata": {},
   "outputs": [],
   "source": [
    "# 创建 UTC 时区对象\n",
    "utc_zone = timezone.utc\n",
    "\n",
    "# 获取当前 UTC 时间\n",
    "utc_now = datetime.now(utc_zone)\n",
    "\n",
    "# 创建其他时区（例如东八区，北京时间）\n",
    "beijing_zone = timezone(timedelta(hours=8))\n",
    "\n",
    "# 将 UTC 时间转换为北京时间\n",
    "beijing_time = utc_now.astimezone(beijing_zone)\n",
    "\n",
    "print(\"当前时间 (UTC):\", utc_now)\n",
    "print(\"北京时间:\", beijing_time)"
   ]
  },
  {
   "cell_type": "markdown",
   "metadata": {},
   "source": [
    "- **从`datetime`中获得`date`与`time`**"
   ]
  },
  {
   "cell_type": "code",
   "execution_count": null,
   "metadata": {},
   "outputs": [],
   "source": [
    "now_datetime = datetime.now()\n",
    "print(type(now_datetime), now_datetime)\n",
    "# 提取date和time对象\n",
    "m_date = now_datetime.date()\n",
    "m_time = now_datetime.time()\n",
    "# 打印\n",
    "print(type(m_date), m_date)\n",
    "print(type(m_time), m_time)"
   ]
  },
  {
   "cell_type": "markdown",
   "metadata": {},
   "source": [
    "- **直接读取`原子属性`**"
   ]
  },
  {
   "cell_type": "code",
   "execution_count": null,
   "metadata": {},
   "outputs": [],
   "source": [
    "now_datetime = datetime.now()\n",
    "# 提取原子属性\n",
    "year = now_datetime.year\n",
    "month = now_datetime.month\n",
    "day = now_datetime.day\n",
    "hour = now_datetime.hour\n",
    "minute = now_datetime.minute\n",
    "second = now_datetime.second\n",
    "# 输出\n",
    "print(year, month, day, hour, minute, second)"
   ]
  }
 ],
 "metadata": {
  "kernelspec": {
   "display_name": "Python 3",
   "language": "python",
   "name": "python3"
  },
  "language_info": {
   "codemirror_mode": {
    "name": "ipython",
    "version": 3
   },
   "file_extension": ".py",
   "mimetype": "text/x-python",
   "name": "python",
   "nbconvert_exporter": "python",
   "pygments_lexer": "ipython3",
   "version": "3.9.13"
  }
 },
 "nbformat": 4,
 "nbformat_minor": 2
}
