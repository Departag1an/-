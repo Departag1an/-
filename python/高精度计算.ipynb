{
 "cells": [
  {
   "cell_type": "markdown",
   "metadata": {},
   "source": [
    "# 高精度计算\n",
    "- **py的整形是默认无限精度的**\n",
    "- **浮点高精度：decimal**\n",
    "- **分式优化的高精度：fractions**\n"
   ]
  }
 ],
 "metadata": {
  "language_info": {
   "name": "python"
  }
 },
 "nbformat": 4,
 "nbformat_minor": 2
}
